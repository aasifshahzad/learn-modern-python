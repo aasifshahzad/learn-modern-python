{
 "cells": [
  {
   "cell_type": "code",
   "execution_count": 1,
   "metadata": {},
   "outputs": [
    {
     "name": "stdout",
     "output_type": "stream",
     "text": [
      "list_b: [1, 2, 3, 4]\n"
     ]
    }
   ],
   "source": [
    "\n",
    "list_a: list[int] = [1, 2, 3] # 4\n",
    "list_b = list_a\n",
    "list_a.append(4)\n",
    "print(\"list_b:\", list_b) # Output: list_b: [1, 2, 3, 4]"
   ]
  },
  {
   "cell_type": "markdown",
   "metadata": {},
   "source": [
    "https://www.linkedin.com/pulse/understanding-pass-by-value-vs-pass-by-reference-elhousieny-phd%E1%B4%AC%E1%B4%AE%E1%B4%B0/"
   ]
  },
  {
   "cell_type": "markdown",
   "metadata": {},
   "source": [
    "Mutable vs. Immutable Objects\n",
    "\n",
    "1. Mutable Objects\n",
    "\n",
    " Mutable objects can be modified after creation. Examples include lists, dictionaries, and sets. Changes to these objects affect their memory contents.\n",
    "\n",
    " ```python\n",
    " list_a = [1, 2, 3]\n",
    " list_b = list_a\n",
    " list_a.append(4)\n",
    " print(\"list_b:\", list_b) # Output: list_b: [1, 2, 3, 4]\n",
    " ```\n",
    "\n",
    " The change in `list_a` is reflected in `list_b` since they refer to the same object.\n",
    "\n",
    "2. Immutable Objects\n",
    "\n",
    " Immutable objects cannot be modified once created. Examples include integers, floats, strings, and tuples. Any \"modification\" results in a new object.\n",
    "\n",
    " ```python\n",
    " num_a = 5\n",
    " num_b = num_a\n",
    " num_a += 1\n",
    " print(\"num_b:\", num_b) # Output: num_b: 5\n",
    " ```\n",
    "\n",
    " The variable `num_b` still points to the original object, while `num_a` references the new object.\n",
    "\n",
    "Addressing Changes without Function Calls\n",
    "\n",
    "For immutable objects, any modification creates a new object, even without function calls:\n",
    "\n",
    "```python\n",
    "x = 10\n",
    "print(\"Before modification:\", x, id(x))\n",
    "x += 1\n",
    "print(\"After modification:\", x, id(x))\n",
    "```\n",
    "\n",
    "Output:\n",
    "\n",
    "```\n",
    "Before modification: 10 140734854261520\n",
    "After modification: 11 140734854261552\n",
    "```\n",
    "\n",
    "In this example, `id()` shows that the memory address changed after the modification.\n",
    "\n",
    "This is very important to understand. It is not about passing to functions, but it is about the type of the variable.\n",
    "In Python, immutable variables are those whose values cannot be changed after they are created. Once an immutable object is created, any attempt to modify its value will result in the creation of a new object with the modified value. This property ensures data integrity and allows for certain optimizations in memory management.\n",
    "\n",
    "Here are some examples of immutable data types in Python:\n",
    "\n",
    "1. **Integers (`int`)**: Integer values cannot be changed after creation.\n",
    " \n",
    " ```python\n",
    " x = 5\n",
    " y = x # y is a reference to the same integer object as x\n",
    " x = 10 # This creates a new integer object with the value 10, x now refers to this new object\n",
    " ```\n",
    "\n",
    "2. **Floating-Point Numbers (`float`)**: Floating-point numbers are also immutable.\n",
    " \n",
    " ```python\n",
    " a = 3.14\n",
    " b = a # b is a reference to the same float object as a\n",
    " a = 2.71 # This creates a new float object with the value 2.71, a now refers to this new object\n",
    " ```\n",
    "\n",
    "3. **Strings (`str`)**: Strings are sequences of characters and are immutable in Python.\n",
    " \n",
    " ```python\n",
    " s = \"hello\"\n",
    " t = s # t is a reference to the same string object as s\n",
    " s = \"world\" # This creates a new string object with the value \"world\", s now refers to this new object\n",
    " ```\n",
    "\n",
    "4. **Tuples**: Tuples are immutable sequences that can hold a mix of different data types.\n",
    " \n",
    " ```python\n",
    " tup = (1, 2, 3)\n",
    " new_tup = tup + (4,) # This creates a new tuple by concatenating, tup still refers to the original tuple\n",
    " ```\n",
    "\n",
    "5. **Frozen Sets**: Frozen sets are sets that cannot be modified once created.\n",
    " \n",
    " ```python\n",
    " fs = frozenset([1, 2, 3])\n",
    " ```\n",
    "\n",
    "6. **Boolean (`bool`)**: Booleans represent the truth values `True` and `False`, and they are immutable.\n",
    " \n",
    " ```python\n",
    " b = True\n",
    " ```\n",
    "\n",
    "7. **None**: The `None` object is immutable and represents the absence of a value.\n",
    " \n",
    " ```python\n",
    " x = None\n",
    " ```\n",
    "\n",
    "These immutable data types ensure that the values they hold remain constant throughout their lifetime, making them useful for scenarios where you need to ensure data integrity or share values between different parts of your program without the risk of unintended modifications.\n",
    "\n",
    "Pass-by-Value vs. Pass-by-Reference\n",
    "\n",
    "1. Pass-by-Value (Immutable Objects)\n",
    "\n",
    " In pass-by-value, the value of a variable is copied and passed to a function. This is how Python behaves with immutable objects, like integers, floats, strings, and tuples. Let's illustrate this with examples:\n",
    "\n",
    " ```python\n",
    " def modify_immutable(value):\n",
    " value += 1\n",
    " print(\"Inside function:\", value)\n",
    "\n",
    " x = 5\n",
    " print(\"Before function:\", x)\n",
    " modify_immutable(x)\n",
    " print(\"After function:\", x)\n",
    " ```\n",
    "\n",
    " Output:\n",
    "\n",
    " ```\n",
    " Before function: 5\n",
    " Inside function: 6\n",
    " After function: 5\n",
    " ```\n",
    "\n",
    " The function modifies a copy of `x` inside its scope, leaving the original value unchanged.\n",
    "\n",
    "2. Pass-by-Reference (Mutable Objects)\n",
    "\n",
    " When dealing with mutable objects, such as lists and dictionaries, Python passes a reference to the object instead of copying its value. This means changes within the function are reflected outside it.\n",
    "\n",
    " ```python\n",
    " def modify_mutable(data):\n",
    " data[0] = \"modified\"\n",
    " print(\"Inside function:\", data)\n",
    "\n",
    " my_list = [\"original\"]\n",
    " print(\"Before function:\", my_list)\n",
    " modify_mutable(my_list)\n",
    " print(\"After function:\", my_list)\n",
    " ```\n",
    "\n",
    " Output:\n",
    "\n",
    " ```\n",
    " Before function: ['original']\n",
    " Inside function: ['modified']\n",
    " After function: ['modified']\n",
    " ```\n",
    "\n",
    " Here, the function modified the list object, and the change persisted outside the function as well.\n"
   ]
  },
  {
   "cell_type": "code",
   "execution_count": 2,
   "metadata": {},
   "outputs": [
    {
     "name": "stdout",
     "output_type": "stream",
     "text": [
      "num_b: 5\n"
     ]
    }
   ],
   "source": [
    "num_a:int = 5\n",
    "num_b = num_a\n",
    "num_a += 1\n",
    "print(\"num_b:\", num_b) # Output: num_b: 5"
   ]
  },
  {
   "cell_type": "markdown",
   "metadata": {},
   "source": [
    "# Addressing Changes without Function Calls"
   ]
  },
  {
   "cell_type": "code",
   "execution_count": 3,
   "metadata": {},
   "outputs": [
    {
     "name": "stdout",
     "output_type": "stream",
     "text": [
      "Before modification: 10 4372794792\n",
      "After modification: 11 4372794824\n"
     ]
    }
   ],
   "source": [
    "x = 10\n",
    "print(\"Before modification:\", x, id(x))\n",
    "x += 1\n",
    "print(\"After modification:\", x, id(x))"
   ]
  },
  {
   "cell_type": "code",
   "execution_count": 14,
   "metadata": {},
   "outputs": [
    {
     "name": "stdout",
     "output_type": "stream",
     "text": [
      "First Assignment of variable a value is 4372794632\n",
      "\tValue of start of function 5 address 4372794632\n",
      "\tnum1 value end of function 6 address 4372794664\n",
      "\tEnd of program\n",
      "End of program variable value is 5 address of a 4372794632\n"
     ]
    }
   ],
   "source": [
    "a : int = 5\n",
    "\n",
    "print(f\"First Assignment of variable a value is {id(a)}\")\n",
    "\n",
    "def abc(num1:int)->None:\n",
    "    print(f\"\\tValue of start of function {num1} address {id(num1)}\")\n",
    "    num1 = 6# copy now it will change update object\n",
    "\n",
    "    print(f\"\\tnum1 value end of function {num1} address {id(num1)}\") # change here\n",
    "    print(\"\\tEnd of program\")\n",
    "\n",
    "abc(a) # pass by value imutable\n",
    "\n",
    "print(f\"End of program variable value is {a} address of a {id(a)}\")\n",
    "\n"
   ]
  },
  {
   "cell_type": "code",
   "execution_count": 16,
   "metadata": {},
   "outputs": [
    {
     "name": "stdout",
     "output_type": "stream",
     "text": [
      "X value is 7 and X address 4372794696\n",
      "X value is 7 and X address 4372794696\n",
      "X value is 200 and X address 4372800872\n"
     ]
    }
   ],
   "source": [
    "x : int = 7\n",
    "\n",
    "b = x \n",
    "\n",
    "print(f\"X value is {x} and X address {id(x)}\")\n",
    "print(f\"X value is {b} and X address {id(b)}\")\n",
    "\n",
    "b = 200 # update then it will change address\n",
    "\n",
    "print(f\"X value is {b} and X address {id(b)}\")"
   ]
  },
  {
   "cell_type": "code",
   "execution_count": 17,
   "metadata": {},
   "outputs": [
    {
     "name": "stdout",
     "output_type": "stream",
     "text": [
      "X value is 7 and X address 4372794696\n",
      "X value is 7 and X address 4372794696\n",
      "X value is 200 and X address 4372800872\n"
     ]
    }
   ],
   "source": [
    "x : int = 7\n",
    "\n",
    "b : int = 7\n",
    "\n",
    "print(f\"X value is {x} and X address {id(x)}\")\n",
    "print(f\"X value is {b} and X address {id(b)}\")\n",
    "\n",
    "b = 200 # update then it will change address\n",
    "\n",
    "print(f\"X value is {b} and X address {id(b)}\")"
   ]
  },
  {
   "cell_type": "code",
   "execution_count": 18,
   "metadata": {},
   "outputs": [
    {
     "name": "stdout",
     "output_type": "stream",
     "text": [
      "X value is 7 and X address 4372794696\n",
      "X value is 7 and X address 4372794696\n",
      "X value is 200 and X address 4372800872\n"
     ]
    }
   ],
   "source": [
    "x : int = 7\n",
    "\n",
    "b : int = int(7)# changes then it will create new object\n",
    "\n",
    "print(f\"X value is {x} and X address {id(x)}\")\n",
    "print(f\"X value is {b} and X address {id(b)}\")\n",
    "\n",
    "b = 200 # update then it will change address\n",
    "\n",
    "print(f\"X value is {b} and X address {id(b)}\")"
   ]
  },
  {
   "cell_type": "code",
   "execution_count": 19,
   "metadata": {},
   "outputs": [
    {
     "name": "stdout",
     "output_type": "stream",
     "text": [
      "4591520960\n",
      "\tValue of start of function [1, 2, 3, 4] address 4591520960\n",
      "num1 value is [1, 2, 3, 4, 200] address 4591520960\n",
      "[1, 2, 3, 4, 200]\n"
     ]
    }
   ],
   "source": [
    "a : list[int] = [1,2,3,4]\n",
    "\n",
    "print(id(a))\n",
    "\n",
    "def abc(num1:list[int])->None:\n",
    "    print(f\"\\tValue of start of function {num1} address {id(num1)}\")\n",
    "    num1.append(200)# added on element\n",
    "    print(f\"num1 value is {num1} address {id(num1)}\")\n",
    "\n",
    "abc(a)# pass by refference (mutable data type)\n",
    "\n",
    "print(a)\n",
    "\n"
   ]
  },
  {
   "cell_type": "code",
   "execution_count": 20,
   "metadata": {},
   "outputs": [
    {
     "name": "stdout",
     "output_type": "stream",
     "text": [
      "num1 value is [7, 200]\n",
      "[1, 2, 3, 4]\n"
     ]
    }
   ],
   "source": [
    "a : list[int] = [1,2,3,4]\n",
    "\n",
    "def abc(num1:list[int])->None:\n",
    "    num1:list[int] = [7] # reassign list variable -> create new object\n",
    "    num1.append(200)# added on element\n",
    "    print(f\"num1 value is {num1}\")\n",
    "\n",
    "abc(a)# pass by refference (mutable data type)\n",
    "\n",
    "print(a)\n",
    "\n"
   ]
  },
  {
   "cell_type": "code",
   "execution_count": 21,
   "metadata": {},
   "outputs": [
    {
     "name": "stdout",
     "output_type": "stream",
     "text": [
      "num1 value is [1, 2, 3, 4, 200]\n",
      "[1, 2, 3, 4]\n"
     ]
    }
   ],
   "source": [
    "a : list[int] = [1,2,3,4]\n",
    "\n",
    "def abc(num1:list[int])->None:\n",
    "    num1:list[int] = [1,2,3,4] # reassign list variable -> create new object\n",
    "    num1.append(200)# added on element\n",
    "    print(f\"num1 value is {num1}\")\n",
    "\n",
    "abc(a)# pass by refference (mutable data type)\n",
    "\n",
    "print(a)\n",
    "\n"
   ]
  },
  {
   "cell_type": "code",
   "execution_count": 23,
   "metadata": {},
   "outputs": [
    {
     "name": "stdout",
     "output_type": "stream",
     "text": [
      "4591717504\n",
      "4591792320\n"
     ]
    }
   ],
   "source": [
    "a : list[int] = [1,2,3,4] # mutable\n",
    "b : list[int] = [1,2,3,4] # mutable\n",
    "\n",
    "print(id(a))\n",
    "print(id(b))"
   ]
  },
  {
   "cell_type": "markdown",
   "metadata": {},
   "source": [
    "# Run time Error"
   ]
  },
  {
   "cell_type": "code",
   "execution_count": 24,
   "metadata": {},
   "outputs": [
    {
     "name": "stdout",
     "output_type": "stream",
     "text": [
      "5.0\n"
     ]
    }
   ],
   "source": [
    "a : int = int(input(\"Enter number1:\\t\"))\n",
    "b : int = int(input(\"Enter number2:\\t\"))\n",
    "\n",
    "print(a / b)"
   ]
  },
  {
   "cell_type": "code",
   "execution_count": 25,
   "metadata": {},
   "outputs": [
    {
     "ename": "ZeroDivisionError",
     "evalue": "division by zero",
     "output_type": "error",
     "traceback": [
      "\u001b[0;31m---------------------------------------------------------------------------\u001b[0m",
      "\u001b[0;31mZeroDivisionError\u001b[0m                         Traceback (most recent call last)",
      "Cell \u001b[0;32mIn[25], line 4\u001b[0m\n\u001b[1;32m      1\u001b[0m a : \u001b[39mint\u001b[39m \u001b[39m=\u001b[39m \u001b[39mint\u001b[39m(\u001b[39minput\u001b[39m(\u001b[39m\"\u001b[39m\u001b[39mEnter number1:\u001b[39m\u001b[39m\\t\u001b[39;00m\u001b[39m\"\u001b[39m))\n\u001b[1;32m      2\u001b[0m b : \u001b[39mint\u001b[39m \u001b[39m=\u001b[39m \u001b[39mint\u001b[39m(\u001b[39minput\u001b[39m(\u001b[39m\"\u001b[39m\u001b[39mEnter number2:\u001b[39m\u001b[39m\\t\u001b[39;00m\u001b[39m\"\u001b[39m))\n\u001b[0;32m----> 4\u001b[0m \u001b[39mprint\u001b[39m(a \u001b[39m/\u001b[39;49m b)\n",
      "\u001b[0;31mZeroDivisionError\u001b[0m: division by zero"
     ]
    }
   ],
   "source": [
    "a : int = int(input(\"Enter number1:\\t\"))\n",
    "b : int = int(input(\"Enter number2:\\t\"))\n",
    "\n",
    "print(a / b)"
   ]
  },
  {
   "cell_type": "code",
   "execution_count": 27,
   "metadata": {},
   "outputs": [
    {
     "name": "stdout",
     "output_type": "stream",
     "text": [
      "Muhammad Qasim\n"
     ]
    }
   ],
   "source": [
    "names:list[str] = ['Sir Zia',\"Sir Inam\",\"Muhammad Qasim\"]\n",
    "\n",
    "indx : int = int(input(\"Enter index number:\\t\"))\n",
    "print(names[indx])"
   ]
  },
  {
   "cell_type": "code",
   "execution_count": 28,
   "metadata": {},
   "outputs": [
    {
     "ename": "IndexError",
     "evalue": "list index out of range",
     "output_type": "error",
     "traceback": [
      "\u001b[0;31m---------------------------------------------------------------------------\u001b[0m",
      "\u001b[0;31mIndexError\u001b[0m                                Traceback (most recent call last)",
      "Cell \u001b[0;32mIn[28], line 4\u001b[0m\n\u001b[1;32m      1\u001b[0m names:\u001b[39mlist\u001b[39m[\u001b[39mstr\u001b[39m] \u001b[39m=\u001b[39m [\u001b[39m'\u001b[39m\u001b[39mSir Zia\u001b[39m\u001b[39m'\u001b[39m,\u001b[39m\"\u001b[39m\u001b[39mSir Inam\u001b[39m\u001b[39m\"\u001b[39m,\u001b[39m\"\u001b[39m\u001b[39mMuhammad Qasim\u001b[39m\u001b[39m\"\u001b[39m]\n\u001b[1;32m      3\u001b[0m indx : \u001b[39mint\u001b[39m \u001b[39m=\u001b[39m \u001b[39mint\u001b[39m(\u001b[39minput\u001b[39m(\u001b[39m\"\u001b[39m\u001b[39mEnter index number:\u001b[39m\u001b[39m\\t\u001b[39;00m\u001b[39m\"\u001b[39m))\n\u001b[0;32m----> 4\u001b[0m \u001b[39mprint\u001b[39m(names[indx])\n",
      "\u001b[0;31mIndexError\u001b[0m: list index out of range"
     ]
    }
   ],
   "source": [
    "names:list[str] = ['Sir Zia',\"Sir Inam\",\"Muhammad Qasim\"]\n",
    "\n",
    "indx : int = int(input(\"Enter index number:\\t\"))\n",
    "print(names[indx])"
   ]
  },
  {
   "cell_type": "code",
   "execution_count": 30,
   "metadata": {},
   "outputs": [
    {
     "ename": "TypeError",
     "evalue": "'tuple' object does not support item assignment",
     "output_type": "error",
     "traceback": [
      "\u001b[0;31m---------------------------------------------------------------------------\u001b[0m",
      "\u001b[0;31mTypeError\u001b[0m                                 Traceback (most recent call last)",
      "Cell \u001b[0;32mIn[30], line 2\u001b[0m\n\u001b[1;32m      1\u001b[0m data : \u001b[39mtuple\u001b[39m[\u001b[39mint\u001b[39m,\u001b[39mint\u001b[39m,\u001b[39mint\u001b[39m] \u001b[39m=\u001b[39m (\u001b[39m1\u001b[39m,\u001b[39m2\u001b[39m,\u001b[39m3\u001b[39m)\n\u001b[0;32m----> 2\u001b[0m data[\u001b[39m0\u001b[39;49m] \u001b[39m=\u001b[39m \u001b[39m2000\u001b[39m\n",
      "\u001b[0;31mTypeError\u001b[0m: 'tuple' object does not support item assignment"
     ]
    }
   ],
   "source": [
    "data : tuple[int,int,int] = (1,2,3)\n",
    "data[0] = 2000"
   ]
  },
  {
   "cell_type": "code",
   "execution_count": 31,
   "metadata": {},
   "outputs": [
    {
     "ename": "TypeError",
     "evalue": "can only concatenate str (not \"int\") to str",
     "output_type": "error",
     "traceback": [
      "\u001b[0;31m---------------------------------------------------------------------------\u001b[0m",
      "\u001b[0;31mTypeError\u001b[0m                                 Traceback (most recent call last)",
      "Cell \u001b[0;32mIn[31], line 1\u001b[0m\n\u001b[0;32m----> 1\u001b[0m \u001b[39m\"\u001b[39;49m\u001b[39m2\u001b[39;49m\u001b[39m\"\u001b[39;49m \u001b[39m+\u001b[39;49m \u001b[39m2\u001b[39;49m\n",
      "\u001b[0;31mTypeError\u001b[0m: can only concatenate str (not \"int\") to str"
     ]
    }
   ],
   "source": [
    "\"2\" + 2"
   ]
  },
  {
   "cell_type": "code",
   "execution_count": 33,
   "metadata": {},
   "outputs": [
    {
     "ename": "KeyError",
     "evalue": "'father name'",
     "output_type": "error",
     "traceback": [
      "\u001b[0;31m---------------------------------------------------------------------------\u001b[0m",
      "\u001b[0;31mKeyError\u001b[0m                                  Traceback (most recent call last)",
      "Cell \u001b[0;32mIn[33], line 6\u001b[0m\n\u001b[1;32m      1\u001b[0m data : \u001b[39mdict\u001b[39m[\u001b[39mstr\u001b[39m,\u001b[39mstr\u001b[39m] \u001b[39m=\u001b[39m {\n\u001b[1;32m      2\u001b[0m     \u001b[39m\"\u001b[39m\u001b[39mname\u001b[39m\u001b[39m\"\u001b[39m:\u001b[39m\"\u001b[39m\u001b[39mMuhammad Qasim\u001b[39m\u001b[39m\"\u001b[39m,\n\u001b[1;32m      3\u001b[0m     \u001b[39m\"\u001b[39m\u001b[39meducation\u001b[39m\u001b[39m\"\u001b[39m: \u001b[39m\"\u001b[39m\u001b[39mMSDS\u001b[39m\u001b[39m\"\u001b[39m\n\u001b[1;32m      4\u001b[0m }\n\u001b[0;32m----> 6\u001b[0m data[\u001b[39m'\u001b[39;49m\u001b[39mfather name\u001b[39;49m\u001b[39m'\u001b[39;49m]\n",
      "\u001b[0;31mKeyError\u001b[0m: 'father name'"
     ]
    }
   ],
   "source": [
    "data : dict[str,str] = {\n",
    "    \"name\":\"Muhammad Qasim\",\n",
    "    \"education\": \"MSDS\"\n",
    "}\n",
    "\n",
    "data['father name']"
   ]
  },
  {
   "cell_type": "code",
   "execution_count": 34,
   "metadata": {},
   "outputs": [
    {
     "ename": "FileNotFoundError",
     "evalue": "[Errno 2] No such file or directory: 'abc.txt'",
     "output_type": "error",
     "traceback": [
      "\u001b[0;31m---------------------------------------------------------------------------\u001b[0m",
      "\u001b[0;31mFileNotFoundError\u001b[0m                         Traceback (most recent call last)",
      "Cell \u001b[0;32mIn[34], line 1\u001b[0m\n\u001b[0;32m----> 1\u001b[0m \u001b[39mopen\u001b[39;49m(\u001b[39m\"\u001b[39;49m\u001b[39mabc.txt\u001b[39;49m\u001b[39m\"\u001b[39;49m)\n",
      "File \u001b[0;32m~/anaconda3/envs/python12/lib/python3.12/site-packages/IPython/core/interactiveshell.py:286\u001b[0m, in \u001b[0;36m_modified_open\u001b[0;34m(file, *args, **kwargs)\u001b[0m\n\u001b[1;32m    279\u001b[0m \u001b[39mif\u001b[39;00m file \u001b[39min\u001b[39;00m {\u001b[39m0\u001b[39m, \u001b[39m1\u001b[39m, \u001b[39m2\u001b[39m}:\n\u001b[1;32m    280\u001b[0m     \u001b[39mraise\u001b[39;00m \u001b[39mValueError\u001b[39;00m(\n\u001b[1;32m    281\u001b[0m         \u001b[39mf\u001b[39m\u001b[39m\"\u001b[39m\u001b[39mIPython won\u001b[39m\u001b[39m'\u001b[39m\u001b[39mt let you open fd=\u001b[39m\u001b[39m{\u001b[39;00mfile\u001b[39m}\u001b[39;00m\u001b[39m by default \u001b[39m\u001b[39m\"\u001b[39m\n\u001b[1;32m    282\u001b[0m         \u001b[39m\"\u001b[39m\u001b[39mas it is likely to crash IPython. If you know what you are doing, \u001b[39m\u001b[39m\"\u001b[39m\n\u001b[1;32m    283\u001b[0m         \u001b[39m\"\u001b[39m\u001b[39myou can use builtins\u001b[39m\u001b[39m'\u001b[39m\u001b[39m open.\u001b[39m\u001b[39m\"\u001b[39m\n\u001b[1;32m    284\u001b[0m     )\n\u001b[0;32m--> 286\u001b[0m \u001b[39mreturn\u001b[39;00m io_open(file, \u001b[39m*\u001b[39;49margs, \u001b[39m*\u001b[39;49m\u001b[39m*\u001b[39;49mkwargs)\n",
      "\u001b[0;31mFileNotFoundError\u001b[0m: [Errno 2] No such file or directory: 'abc.txt'"
     ]
    }
   ],
   "source": [
    "open(\"abc.txt\")"
   ]
  },
  {
   "cell_type": "markdown",
   "metadata": {},
   "source": [
    "# Handle Run time error\n",
    "\n",
    "```\n",
    "try:\n",
    "    logic\n",
    "except (Error_class1, Error_class2):\n",
    "    if error accured then run this block\n",
    "else:\n",
    "    if error not accured\n",
    "finally:\n",
    "    always run\n",
    "```"
   ]
  },
  {
   "cell_type": "code",
   "execution_count": 37,
   "metadata": {},
   "outputs": [
    {
     "name": "stdout",
     "output_type": "stream",
     "text": [
      "logic1\n",
      "logic2\n"
     ]
    },
    {
     "ename": "ZeroDivisionError",
     "evalue": "division by zero",
     "output_type": "error",
     "traceback": [
      "\u001b[0;31m---------------------------------------------------------------------------\u001b[0m",
      "\u001b[0;31mZeroDivisionError\u001b[0m                         Traceback (most recent call last)",
      "Cell \u001b[0;32mIn[37], line 3\u001b[0m\n\u001b[1;32m      1\u001b[0m \u001b[39mprint\u001b[39m(\u001b[39m\"\u001b[39m\u001b[39mlogic1\u001b[39m\u001b[39m\"\u001b[39m)\n\u001b[1;32m      2\u001b[0m \u001b[39mprint\u001b[39m(\u001b[39m\"\u001b[39m\u001b[39mlogic2\u001b[39m\u001b[39m\"\u001b[39m)\n\u001b[0;32m----> 3\u001b[0m \u001b[39mprint\u001b[39m(\u001b[39m5\u001b[39;49m\u001b[39m/\u001b[39;49m\u001b[39m0\u001b[39;49m)\u001b[39m# Error\u001b[39;00m\n\u001b[1;32m      4\u001b[0m \u001b[39mprint\u001b[39m(\u001b[39m\"\u001b[39m\u001b[39mlogic4\u001b[39m\u001b[39m\"\u001b[39m)\n\u001b[1;32m      5\u001b[0m \u001b[39mprint\u001b[39m(\u001b[39m\"\u001b[39m\u001b[39mlogic5\u001b[39m\u001b[39m\"\u001b[39m)\n",
      "\u001b[0;31mZeroDivisionError\u001b[0m: division by zero"
     ]
    }
   ],
   "source": [
    "print(\"logic1\")\n",
    "print(\"logic2\")\n",
    "print(5/0)# Error\n",
    "print(\"logic4\")\n",
    "print(\"logic5\")\n"
   ]
  },
  {
   "cell_type": "code",
   "execution_count": 38,
   "metadata": {},
   "outputs": [
    {
     "name": "stdout",
     "output_type": "stream",
     "text": [
      "logic1\n",
      "logic2\n",
      "Zerro Division Error!\n",
      "logic4\n",
      "logic5\n"
     ]
    }
   ],
   "source": [
    "print(\"logic1\")\n",
    "print(\"logic2\")\n",
    "try:\n",
    "    print(5/0)# Error\n",
    "except ZeroDivisionError:\n",
    "    print(\"Zerro Division Error!\")\n",
    "print(\"logic4\")\n",
    "print(\"logic5\")"
   ]
  },
  {
   "cell_type": "code",
   "execution_count": 39,
   "metadata": {},
   "outputs": [
    {
     "name": "stdout",
     "output_type": "stream",
     "text": [
      "logic1\n",
      "logic2\n",
      "logic4\n",
      "logic5\n"
     ]
    }
   ],
   "source": [
    "print(\"logic1\")\n",
    "print(\"logic2\")\n",
    "try:\n",
    "    print(5/0)# Error\n",
    "except ZeroDivisionError:\n",
    "    pass\n",
    "print(\"logic4\")\n",
    "print(\"logic5\")"
   ]
  },
  {
   "cell_type": "code",
   "execution_count": 41,
   "metadata": {},
   "outputs": [
    {
     "ename": "IndexError",
     "evalue": "list index out of range",
     "output_type": "error",
     "traceback": [
      "\u001b[0;31m---------------------------------------------------------------------------\u001b[0m",
      "\u001b[0;31mIndexError\u001b[0m                                Traceback (most recent call last)",
      "Cell \u001b[0;32mIn[41], line 2\u001b[0m\n\u001b[1;32m      1\u001b[0m l1 : \u001b[39mlist\u001b[39m[\u001b[39mint\u001b[39m] \u001b[39m=\u001b[39m [\u001b[39m1\u001b[39m,\u001b[39m2\u001b[39m,\u001b[39m3\u001b[39m]\n\u001b[0;32m----> 2\u001b[0m l1[\u001b[39m200\u001b[39;49m]\n",
      "\u001b[0;31mIndexError\u001b[0m: list index out of range"
     ]
    }
   ],
   "source": [
    "l1 : list[int] = [1,2,3]\n",
    "l1[200]"
   ]
  },
  {
   "cell_type": "code",
   "execution_count": 42,
   "metadata": {},
   "outputs": [
    {
     "ename": "NameError",
     "evalue": "name 'xyz' is not defined",
     "output_type": "error",
     "traceback": [
      "\u001b[0;31m---------------------------------------------------------------------------\u001b[0m",
      "\u001b[0;31mNameError\u001b[0m                                 Traceback (most recent call last)",
      "Cell \u001b[0;32mIn[42], line 1\u001b[0m\n\u001b[0;32m----> 1\u001b[0m \u001b[39mprint\u001b[39m(xyz)\n",
      "\u001b[0;31mNameError\u001b[0m: name 'xyz' is not defined"
     ]
    }
   ],
   "source": [
    "print(xyz)"
   ]
  },
  {
   "cell_type": "code",
   "execution_count": 44,
   "metadata": {},
   "outputs": [
    {
     "name": "stdout",
     "output_type": "stream",
     "text": [
      "logic1\n",
      "logic2\n",
      "Zerro Division Error!\n",
      "logic4\n",
      "logic5\n"
     ]
    }
   ],
   "source": [
    "print(\"logic1\")\n",
    "print(\"logic2\")\n",
    "\n",
    "l1 : list[int] = [1,2,3]\n",
    "\n",
    "try:\n",
    "    print(5/0)# Error\n",
    "    print(l1[0])\n",
    "    print(xyz)\n",
    "\n",
    "    \n",
    "except (ZeroDivisionError,IndexError):\n",
    "    print(\"Zerro Division Error!\")\n",
    "print(\"logic4\")\n",
    "print(\"logic5\")"
   ]
  },
  {
   "cell_type": "code",
   "execution_count": 46,
   "metadata": {},
   "outputs": [
    {
     "name": "stdout",
     "output_type": "stream",
     "text": [
      "logic1\n",
      "logic2\n",
      "2.5\n",
      "1\n",
      "Zerro Division Error!\n",
      "logic4\n",
      "logic5\n"
     ]
    }
   ],
   "source": [
    "print(\"logic1\")\n",
    "print(\"logic2\")\n",
    "\n",
    "l1 : list[int] = [1,2,3]\n",
    "\n",
    "try:\n",
    "    print(5/2)\n",
    "    print(l1[0])\n",
    "    print(xyz) # error\n",
    "except (ZeroDivisionError,IndexError,NameError):\n",
    "    print(\"Zerro Division Error!\")\n",
    "print(\"logic4\")\n",
    "print(\"logic5\")"
   ]
  },
  {
   "cell_type": "code",
   "execution_count": null,
   "metadata": {},
   "outputs": [],
   "source": []
  }
 ],
 "metadata": {
  "kernelspec": {
   "display_name": "python12",
   "language": "python",
   "name": "python3"
  },
  "language_info": {
   "codemirror_mode": {
    "name": "ipython",
    "version": 3
   },
   "file_extension": ".py",
   "mimetype": "text/x-python",
   "name": "python",
   "nbconvert_exporter": "python",
   "pygments_lexer": "ipython3",
   "version": "3.12.0"
  },
  "orig_nbformat": 4
 },
 "nbformat": 4,
 "nbformat_minor": 2
}
